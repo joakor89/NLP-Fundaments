{
  "nbformat": 4,
  "nbformat_minor": 0,
  "metadata": {
    "colab": {
      "provenance": []
    },
    "kernelspec": {
      "name": "python3",
      "display_name": "Python 3"
    },
    "language_info": {
      "name": "python"
    }
  },
  "cells": [
    {
      "cell_type": "markdown",
      "source": [
        "# Using structured code: Connecting Drive to Google Colab"
      ],
      "metadata": {
        "id": "dTJ3UzvWs80k"
      }
    },
    {
      "cell_type": "markdown",
      "source": [
        "### Allowing Google Drive - Colab Permission"
      ],
      "metadata": {
        "id": "wmoNmJnltt_S"
      }
    },
    {
      "cell_type": "code",
      "execution_count": 15,
      "metadata": {
        "colab": {
          "base_uri": "https://localhost:8080/"
        },
        "id": "K0P-Foy0s5v-",
        "outputId": "76bafa36-ed9c-423f-d389-b1bc1d5ba51a"
      },
      "outputs": [
        {
          "output_type": "stream",
          "name": "stdout",
          "text": [
            "Drive already mounted at /content/drive; to attempt to forcibly remount, call drive.mount(\"/content/drive\", force_remount=True).\n"
          ]
        }
      ],
      "source": [
        "from google.colab import drive\n",
        "drive.mount('/content/drive')"
      ]
    },
    {
      "cell_type": "markdown",
      "source": [
        "### Filepath"
      ],
      "metadata": {
        "id": "KYbXDgqJuIs6"
      }
    },
    {
      "cell_type": "code",
      "source": [
        "filepath = '/content/drive/MyDrive/NLP - Fundaments/book.txt'"
      ],
      "metadata": {
        "id": "wh0L3RjmtpGa"
      },
      "execution_count": 27,
      "outputs": []
    },
    {
      "cell_type": "markdown",
      "source": [
        "### Building Structured Code (Functions)"
      ],
      "metadata": {
        "id": "zetXpGQXuREH"
      }
    },
    {
      "cell_type": "markdown",
      "source": [
        "# Example 1"
      ],
      "metadata": {
        "id": "lKKEo0D0vUPk"
      }
    },
    {
      "cell_type": "code",
      "source": [
        "# Regular Expression Library\n",
        "import re\n",
        "\n",
        "# Setting Get Text Funcrion to use it Directly\n",
        "def get_text(file):\n",
        "  '''Read Text from file'''\n",
        "  text = open(file).read()\n",
        "  # Pre-processing\n",
        "  text = re.sub(r'<.*?>', ' ', text)\n",
        "  text = re.sub(r'\\s+', ' ', text)\n",
        "  return text"
      ],
      "metadata": {
        "id": "HNZnN7f5uHu7"
      },
      "execution_count": 28,
      "outputs": []
    },
    {
      "cell_type": "code",
      "source": [
        "# Getting & Storage The Book\n",
        "text = get_text(filepath) "
      ],
      "metadata": {
        "id": "3SsxyIAFvYaC"
      },
      "execution_count": 29,
      "outputs": []
    },
    {
      "cell_type": "code",
      "source": [
        "# Setting a void function file \n",
        "!touch '/content/drive/MyDrive/NLP - Fundaments/read.py'"
      ],
      "metadata": {
        "id": "rKlvWaD-vwMe"
      },
      "execution_count": 11,
      "outputs": []
    },
    {
      "cell_type": "code",
      "source": [
        "! pip install read==0.0.2"
      ],
      "metadata": {
        "colab": {
          "base_uri": "https://localhost:8080/"
        },
        "id": "TwXzdPHRzcgB",
        "outputId": "fdbdf429-c982-4488-fa85-00139550e049"
      },
      "execution_count": 13,
      "outputs": [
        {
          "output_type": "stream",
          "name": "stdout",
          "text": [
            "Looking in indexes: https://pypi.org/simple, https://us-python.pkg.dev/colab-wheels/public/simple/\n",
            "Collecting read==0.0.2\n",
            "  Downloading read-0.0.2-py3-none-any.whl (1.5 kB)\n",
            "Installing collected packages: read\n",
            "Successfully installed read-0.0.2\n"
          ]
        }
      ]
    },
    {
      "cell_type": "code",
      "source": [
        "from nltk.tokenize import word_tokenize"
      ],
      "metadata": {
        "id": "qB90_Z-k1W_D"
      },
      "execution_count": 31,
      "outputs": []
    },
    {
      "cell_type": "code",
      "source": [
        "import sys\n",
        "sys.path.append(filepath)"
      ],
      "metadata": {
        "id": "O2MW2Myovy0y"
      },
      "execution_count": 36,
      "outputs": []
    },
    {
      "cell_type": "code",
      "source": [
        "# import read\n",
        "# read.get_text(filepath)"
      ],
      "metadata": {
        "id": "4rFM98DK15Qe"
      },
      "execution_count": 47,
      "outputs": []
    },
    {
      "cell_type": "markdown",
      "source": [
        "## Example 2"
      ],
      "metadata": {
        "id": "mh5-9a5yv1Jm"
      }
    },
    {
      "cell_type": "code",
      "source": [
        "import nltk\n",
        "nltk.download('punkt')\n",
        "from urllib import request\n",
        "from bs4 import BeautifulSoup\n",
        "from nltk import word_tokenize\n",
        "\n",
        "# la funcion la podemos definir en el notebook y usar directamente\n",
        "def freq_words(url, n, encoding = 'utf8'):\n",
        "  req = request.urlopen(url)\n",
        "  html = req.read().decode(encoding)\n",
        "  raw = BeautifulSoup(html, 'html.parser')\n",
        "  text = raw.get_text()\n",
        "  tokens = word_tokenize(text)\n",
        "  tokens = [t.lower() for t in tokens]\n",
        "  fd = nltk.FreqDist(tokens)\n",
        "  return [t for (t, _) in fd.most_common(n)]"
      ],
      "metadata": {
        "colab": {
          "base_uri": "https://localhost:8080/"
        },
        "id": "-rGU_QRZv2Z_",
        "outputId": "e261dc68-625b-4207-f47b-dcbdcc96a527"
      },
      "execution_count": 40,
      "outputs": [
        {
          "output_type": "stream",
          "name": "stderr",
          "text": [
            "[nltk_data] Downloading package punkt to /root/nltk_data...\n",
            "[nltk_data]   Unzipping tokenizers/punkt.zip.\n"
          ]
        }
      ]
    },
    {
      "cell_type": "code",
      "source": [
        "freq_words('https://www.gutenberg.org/files/2701/2701-h/2701-h.htm', 20)"
      ],
      "metadata": {
        "colab": {
          "base_uri": "https://localhost:8080/"
        },
        "id": "n2JqtXqJv8ps",
        "outputId": "fe1a616d-af8e-48fb-ee9b-6f63cea406f3"
      },
      "execution_count": 41,
      "outputs": [
        {
          "output_type": "execute_result",
          "data": {
            "text/plain": [
              "[',',\n",
              " 'the',\n",
              " '.',\n",
              " 'of',\n",
              " 'and',\n",
              " 'a',\n",
              " 'to',\n",
              " 'in',\n",
              " ';',\n",
              " 'that',\n",
              " '’',\n",
              " 'his',\n",
              " 'it',\n",
              " 'i',\n",
              " 'he',\n",
              " 's',\n",
              " 'but',\n",
              " 'with',\n",
              " '!',\n",
              " 'is']"
            ]
          },
          "metadata": {},
          "execution_count": 41
        }
      ]
    },
    {
      "cell_type": "code",
      "source": [
        "# será mas comodo definir la funcion dentro de una libreria externa\n",
        "!touch /content/drive/My\\ Drive/Colab\\ Notebooks/NLP_course_resources/nlp_utils.py"
      ],
      "metadata": {
        "colab": {
          "base_uri": "https://localhost:8080/"
        },
        "id": "OQq7q27lv85-",
        "outputId": "011a52ab-5664-4bf8-d415-df21a463e0d7"
      },
      "execution_count": 42,
      "outputs": [
        {
          "output_type": "stream",
          "name": "stdout",
          "text": [
            "touch: cannot touch '/content/drive/My Drive/Colab Notebooks/NLP_course_resources/nlp_utils.py': No such file or directory\n"
          ]
        }
      ]
    },
    {
      "cell_type": "code",
      "source": [
        "pip install nlputils==1.0.7"
      ],
      "metadata": {
        "colab": {
          "base_uri": "https://localhost:8080/"
        },
        "id": "Zjt6xWCw2sHN",
        "outputId": "d2d43959-16fc-4f02-f77f-370c213a8114"
      },
      "execution_count": 44,
      "outputs": [
        {
          "output_type": "stream",
          "name": "stdout",
          "text": [
            "Looking in indexes: https://pypi.org/simple, https://us-python.pkg.dev/colab-wheels/public/simple/\n",
            "Collecting nlputils==1.0.7\n",
            "  Downloading nlputils-1.0.7-py2.py3-none-any.whl (19 kB)\n",
            "Requirement already satisfied: future in /usr/local/lib/python3.9/dist-packages (from nlputils==1.0.7) (0.18.3)\n",
            "Requirement already satisfied: numpy in /usr/local/lib/python3.9/dist-packages (from nlputils==1.0.7) (1.22.4)\n",
            "Requirement already satisfied: scipy in /usr/local/lib/python3.9/dist-packages (from nlputils==1.0.7) (1.10.1)\n",
            "Requirement already satisfied: matplotlib in /usr/local/lib/python3.9/dist-packages (from nlputils==1.0.7) (3.7.1)\n",
            "Requirement already satisfied: packaging>=20.0 in /usr/local/lib/python3.9/dist-packages (from matplotlib->nlputils==1.0.7) (23.0)\n",
            "Requirement already satisfied: fonttools>=4.22.0 in /usr/local/lib/python3.9/dist-packages (from matplotlib->nlputils==1.0.7) (4.39.3)\n",
            "Requirement already satisfied: pillow>=6.2.0 in /usr/local/lib/python3.9/dist-packages (from matplotlib->nlputils==1.0.7) (8.4.0)\n",
            "Requirement already satisfied: pyparsing>=2.3.1 in /usr/local/lib/python3.9/dist-packages (from matplotlib->nlputils==1.0.7) (3.0.9)\n",
            "Requirement already satisfied: importlib-resources>=3.2.0 in /usr/local/lib/python3.9/dist-packages (from matplotlib->nlputils==1.0.7) (5.12.0)\n",
            "Requirement already satisfied: contourpy>=1.0.1 in /usr/local/lib/python3.9/dist-packages (from matplotlib->nlputils==1.0.7) (1.0.7)\n",
            "Requirement already satisfied: python-dateutil>=2.7 in /usr/local/lib/python3.9/dist-packages (from matplotlib->nlputils==1.0.7) (2.8.2)\n",
            "Requirement already satisfied: kiwisolver>=1.0.1 in /usr/local/lib/python3.9/dist-packages (from matplotlib->nlputils==1.0.7) (1.4.4)\n",
            "Requirement already satisfied: cycler>=0.10 in /usr/local/lib/python3.9/dist-packages (from matplotlib->nlputils==1.0.7) (0.11.0)\n",
            "Requirement already satisfied: zipp>=3.1.0 in /usr/local/lib/python3.9/dist-packages (from importlib-resources>=3.2.0->matplotlib->nlputils==1.0.7) (3.15.0)\n",
            "Requirement already satisfied: six>=1.5 in /usr/local/lib/python3.9/dist-packages (from python-dateutil>=2.7->matplotlib->nlputils==1.0.7) (1.16.0)\n",
            "Installing collected packages: nlputils\n",
            "Successfully installed nlputils-1.0.7\n"
          ]
        }
      ]
    },
    {
      "cell_type": "code",
      "source": [
        "# import nlp_utils\n",
        "# nlp_utils.freq_words('https://www.gutenberg.org/files/2701/2701-h/2701-h.htm', 20)"
      ],
      "metadata": {
        "id": "OyTKPkrov9Rq"
      },
      "execution_count": 46,
      "outputs": []
    },
    {
      "cell_type": "code",
      "source": [],
      "metadata": {
        "id": "BgP3mnzk2cCR"
      },
      "execution_count": null,
      "outputs": []
    }
  ]
}